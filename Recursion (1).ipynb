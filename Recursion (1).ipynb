{
  "nbformat": 4,
  "nbformat_minor": 0,
  "metadata": {
    "colab": {
      "provenance": []
    },
    "kernelspec": {
      "name": "python3",
      "display_name": "Python 3"
    },
    "language_info": {
      "name": "python"
    }
  },
  "cells": [
    {
      "cell_type": "code",
      "execution_count": 1,
      "metadata": {
        "id": "XZj5EeEOyxag"
      },
      "outputs": [],
      "source": [
        "# Can you explain the logic and working of the Tower of Hanoi algorithm by writing a python program? How does the recursion work, and how are the movements of disks between rods accomplished?"
      ]
    },
    {
      "cell_type": "code",
      "source": [
        "def Tower_of_Hanoi(n, s, a, d):\n",
        "\n",
        "  if n == 1:\n",
        "    print(f\"Move the only disk from {s} to {d}\")\n",
        "  else:\n",
        "    ## Move n-1 disk from source to Auxilliaryusing detination\n",
        "    Tower_of_Hanoi(n-1, s, a, d)\n",
        "    ## Move largest disk from source to detination\n",
        "    print(f\"Move disk {n} from rod {s} to rod {d}\")\n",
        "    ## Move n-1 disk from Auxilliary to destination using source\n",
        "    Tower_of_Hanoi(n-1, a, d, s)"
      ],
      "metadata": {
        "id": "pW1jx96XzwSx"
      },
      "execution_count": 2,
      "outputs": []
    },
    {
      "cell_type": "code",
      "source": [
        "Tower_of_Hanoi(4, \"A\", \"B\", \"C\")"
      ],
      "metadata": {
        "colab": {
          "base_uri": "https://localhost:8080/"
        },
        "id": "r8OomY107apt",
        "outputId": "9d039883-abb2-4655-dedc-b8fd5f7f01d6"
      },
      "execution_count": 3,
      "outputs": [
        {
          "output_type": "stream",
          "name": "stdout",
          "text": [
            "Move the only disk from A to C\n",
            "Move disk 2 from rod A to rod C\n",
            "Move the only disk from B to A\n",
            "Move disk 3 from rod A to rod C\n",
            "Move the only disk from B to A\n",
            "Move disk 2 from rod B to rod A\n",
            "Move the only disk from C to B\n",
            "Move disk 4 from rod A to rod C\n",
            "Move the only disk from B to A\n",
            "Move disk 2 from rod B to rod A\n",
            "Move the only disk from C to B\n",
            "Move disk 3 from rod B to rod A\n",
            "Move the only disk from C to B\n",
            "Move disk 2 from rod C to rod B\n",
            "Move the only disk from A to C\n"
          ]
        }
      ]
    },
    {
      "cell_type": "code",
      "source": [
        "# Print the max value of the array [ 13, 1, -3, 22, 5]."
      ],
      "metadata": {
        "id": "hlCvSCIb7hPB"
      },
      "execution_count": 4,
      "outputs": []
    },
    {
      "cell_type": "code",
      "source": [
        "input_arr = [13, 1, -3, 22, 5]\n",
        "max_no = input_arr[0]\n",
        "for i in range(len(input_arr)):\n",
        "  if input_arr[i] > max_no:\n",
        "    max_no = input_arr[i]\n",
        "print(max_no)\n",
        "\n",
        "\n",
        "\n"
      ],
      "metadata": {
        "colab": {
          "base_uri": "https://localhost:8080/"
        },
        "id": "jtp7sJMk8aTg",
        "outputId": "a2f5c810-c10b-4191-b8a5-dbf8c18d46b8"
      },
      "execution_count": 5,
      "outputs": [
        {
          "output_type": "stream",
          "name": "stdout",
          "text": [
            "22\n"
          ]
        }
      ]
    },
    {
      "cell_type": "code",
      "source": [
        "## Find the sum of the values of the array [92, 23, 15, -20, 10].\"\""
      ],
      "metadata": {
        "id": "CvaPoXcv-Q1p"
      },
      "execution_count": 6,
      "outputs": []
    },
    {
      "cell_type": "code",
      "source": [
        "arr = [92, 23, 15, -20, 10]\n",
        "sum = 0\n",
        "for i in range(len(arr)):\n",
        "  sum = sum + arr[i]\n",
        "print(\"the sum of the values of the array is\", sum)"
      ],
      "metadata": {
        "colab": {
          "base_uri": "https://localhost:8080/"
        },
        "id": "k4S3vneTDznx",
        "outputId": "108afd61-c604-417d-f8e6-1b21beabd58e"
      },
      "execution_count": 7,
      "outputs": [
        {
          "output_type": "stream",
          "name": "stdout",
          "text": [
            "the sum of the values of the array is 120\n"
          ]
        }
      ]
    },
    {
      "cell_type": "code",
      "source": [
        "## Given a number num. Print if it is an armstrong number or not using recursion"
      ],
      "metadata": {
        "id": "cuMERh15D-kS"
      },
      "execution_count": 8,
      "outputs": []
    },
    {
      "cell_type": "code",
      "source": [
        "def is_armstrong(num, original_num=None):\n",
        "    if original_num is None:\n",
        "        original_num = num\n",
        "\n",
        "    if num == 0:\n",
        "        return original_num == 0\n",
        "\n",
        "    digit = num % 10\n",
        "    return (digit ** len(str(original_num))) + is_armstrong(num // 10, original_num)\n",
        "\n",
        "num = int(input(\"Enter the number: \"))\n",
        "\n",
        "if is_armstrong(num):\n",
        "    print(f\"{num} is an Armstrong number\")\n",
        "else:\n",
        "    print(f\"{num} is not an Armstrong number\")\n"
      ],
      "metadata": {
        "colab": {
          "base_uri": "https://localhost:8080/"
        },
        "id": "CwrYtn3NAdf_",
        "outputId": "3f2d9e57-f327-4b39-b05f-d4910e58444a"
      },
      "execution_count": 41,
      "outputs": [
        {
          "output_type": "stream",
          "name": "stdout",
          "text": [
            "Enter the number: 153\n",
            "153 is an Armstrong number\n"
          ]
        }
      ]
    },
    {
      "cell_type": "code",
      "source": [],
      "metadata": {
        "id": "Wwc8zcwxGUc5"
      },
      "execution_count": null,
      "outputs": []
    }
  ]
}